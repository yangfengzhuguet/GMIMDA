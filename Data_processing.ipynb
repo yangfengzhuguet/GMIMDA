{
 "cells": [
  {
   "cell_type": "code",
   "execution_count": 2,
   "id": "initial_id",
   "metadata": {
    "collapsed": true,
    "ExecuteTime": {
     "end_time": "2025-01-09T12:40:56.592593Z",
     "start_time": "2025-01-09T12:40:56.293667700Z"
    }
   },
   "outputs": [],
   "source": [
    "import numpy as np\n",
    "import pandas as pd"
   ]
  },
  {
   "cell_type": "code",
   "execution_count": null,
   "outputs": [],
   "source": [
    "miRNA_name = pd.read_csv('data/HMDD v2.0/HMDD v2.0_miRNA_name.csv')"
   ],
   "metadata": {
    "collapsed": false
   },
   "id": "660313f4a3a406ac"
  },
  {
   "cell_type": "code",
   "execution_count": null,
   "outputs": [],
   "source": [
    "miRNA_name"
   ],
   "metadata": {
    "collapsed": false
   },
   "id": "83ed716d66fe6717"
  },
  {
   "cell_type": "code",
   "execution_count": null,
   "outputs": [],
   "source": [
    "# miRNA_name.to_csv('HMDD v20_miRNA_name_.csv', header=False, index=False)"
   ],
   "metadata": {
    "collapsed": false
   },
   "id": "ba680c9c42fe1a7a"
  },
  {
   "cell_type": "code",
   "execution_count": null,
   "outputs": [],
   "source": [],
   "metadata": {
    "collapsed": false
   },
   "id": "34b5b62bd1ca9fa8"
  },
  {
   "cell_type": "code",
   "execution_count": null,
   "outputs": [],
   "source": [
    "disease_name = pd.read_csv('data/HMDD v2.0/HMDD v2.0_disease_name.csv')"
   ],
   "metadata": {
    "collapsed": false
   },
   "id": "527bba0327009adc"
  },
  {
   "cell_type": "code",
   "execution_count": null,
   "outputs": [],
   "source": [
    "disease_name"
   ],
   "metadata": {
    "collapsed": false
   },
   "id": "caa7c336ebee7cdd"
  },
  {
   "cell_type": "code",
   "execution_count": null,
   "outputs": [],
   "source": [
    "# remove []\n",
    "disease_name['disease'] = disease_name['disease'].str.strip('[]')"
   ],
   "metadata": {
    "collapsed": false
   },
   "id": "5831208df0df9b47"
  },
  {
   "cell_type": "code",
   "execution_count": null,
   "outputs": [],
   "source": [
    "disease_name"
   ],
   "metadata": {
    "collapsed": false
   },
   "id": "cfd6b2c9688e8f2f"
  },
  {
   "cell_type": "code",
   "execution_count": null,
   "outputs": [],
   "source": [
    "# disease_name.to_csv('HMDD v2.0_disease_name_.csv', header=False, index=False)"
   ],
   "metadata": {
    "collapsed": false
   },
   "id": "511113c6968f9e9d"
  },
  {
   "cell_type": "code",
   "execution_count": null,
   "outputs": [],
   "source": [
    "MDA = pd.read_csv('data/HMDD v2.0/HMDD v2.0_MDA.csv', header=None)"
   ],
   "metadata": {
    "collapsed": false
   },
   "id": "96f6556a52040a06"
  },
  {
   "cell_type": "code",
   "execution_count": null,
   "outputs": [],
   "source": [
    "MDA"
   ],
   "metadata": {
    "collapsed": false
   },
   "id": "b2d73d157d5c5800"
  },
  {
   "cell_type": "code",
   "execution_count": null,
   "outputs": [],
   "source": [
    "sum(MDA[2] == 1)"
   ],
   "metadata": {
    "collapsed": false
   },
   "id": "642c6d9742d72089"
  },
  {
   "cell_type": "code",
   "execution_count": null,
   "outputs": [],
   "source": [
    "# Create the association matrix\n",
    "zero = np.zeros((495, 383))"
   ],
   "metadata": {
    "collapsed": false
   },
   "id": "9371cda38447c70f"
  },
  {
   "cell_type": "code",
   "execution_count": null,
   "outputs": [],
   "source": [
    "association_matrix = pd.DataFrame(zero)"
   ],
   "metadata": {
    "collapsed": false
   },
   "id": "322862ec7b847093"
  },
  {
   "cell_type": "code",
   "execution_count": null,
   "outputs": [],
   "source": [
    "association_matrix"
   ],
   "metadata": {
    "collapsed": false
   },
   "id": "86e0e3605657d84f"
  },
  {
   "cell_type": "code",
   "execution_count": null,
   "outputs": [],
   "source": [
    "# MDA[0] = MDA[0] -1\n",
    "# MDA[1] = MDA[1] -1"
   ],
   "metadata": {
    "collapsed": false
   },
   "id": "239cb40eb7e9e504"
  },
  {
   "cell_type": "code",
   "execution_count": null,
   "outputs": [],
   "source": [
    "# MDA.to_csv('HMDD v2.0_MDA_', header=False, index=False)\n",
    "MDA_ = pd.read_csv('data/HMDD v2.0/HMDD v2.0_MDA_', header=None)"
   ],
   "metadata": {
    "collapsed": false
   },
   "id": "fc0dd16fa96323b7"
  },
  {
   "cell_type": "code",
   "execution_count": null,
   "outputs": [],
   "source": [
    "MDA_"
   ],
   "metadata": {
    "collapsed": false
   },
   "id": "5a95c087965bba9d"
  },
  {
   "cell_type": "code",
   "execution_count": null,
   "outputs": [],
   "source": [
    "# select the all rows where MDA_[2] == 1\n",
    "filtered_MDA_ = MDA_[MDA_[2] == 1]"
   ],
   "metadata": {
    "collapsed": false
   },
   "id": "7f4f1762614a7630"
  },
  {
   "cell_type": "code",
   "execution_count": null,
   "outputs": [],
   "source": [
    "filtered_MDA_"
   ],
   "metadata": {
    "collapsed": false
   },
   "id": "34b917e1f3b63d7f"
  },
  {
   "cell_type": "code",
   "execution_count": null,
   "outputs": [],
   "source": [
    "# fill the association matrix\n",
    "for row, col in zip(filtered_MDA_[0], filtered_MDA_[1]):\n",
    "    association_matrix.loc[row, col] = 1"
   ],
   "metadata": {
    "collapsed": false
   },
   "id": "49582f4bed7f7bbe"
  },
  {
   "cell_type": "code",
   "execution_count": null,
   "outputs": [],
   "source": [
    "association_matrix"
   ],
   "metadata": {
    "collapsed": false
   },
   "id": "ccfadb0c6dcfb413"
  },
  {
   "cell_type": "code",
   "execution_count": null,
   "outputs": [],
   "source": [
    "(association_matrix == 1).sum().sum()"
   ],
   "metadata": {
    "collapsed": false
   },
   "id": "4f2ed98600e8cca1"
  },
  {
   "cell_type": "code",
   "execution_count": null,
   "outputs": [],
   "source": [
    "association_matrix.to_csv('association_matrix_.csv', header=False, index=False)"
   ],
   "metadata": {
    "collapsed": false
   },
   "id": "3d92e43dd7313bcb"
  },
  {
   "cell_type": "code",
   "execution_count": null,
   "outputs": [],
   "source": [
    "disease_name_ = pd.read_csv('data/HMDD v2.0/HMDD v2.0_disease_name_.csv', header=None)"
   ],
   "metadata": {
    "collapsed": false
   },
   "id": "36c2ee8b03e9b4a3"
  },
  {
   "cell_type": "code",
   "execution_count": null,
   "outputs": [],
   "source": [
    "disease_name_"
   ],
   "metadata": {
    "collapsed": false
   },
   "id": "9ee3b08173d05e9b"
  },
  {
   "cell_type": "code",
   "execution_count": null,
   "outputs": [],
   "source": [
    "mesh_2024_C = pd.read_csv('mesh_2024_C.csv')"
   ],
   "metadata": {
    "collapsed": false
   },
   "id": "7fa3ed6a45daa8c2"
  },
  {
   "cell_type": "code",
   "execution_count": null,
   "outputs": [],
   "source": [
    "mesh_2024_C"
   ],
   "metadata": {
    "collapsed": false
   },
   "id": "cdd6fb908cabf057"
  },
  {
   "cell_type": "code",
   "execution_count": null,
   "outputs": [],
   "source": [
    "mesh_2023_C = pd.read_csv('mesh_2023_C.csv', header=None)"
   ],
   "metadata": {
    "collapsed": false
   },
   "id": "eaf5d9efb7577f4a"
  },
  {
   "cell_type": "code",
   "execution_count": null,
   "outputs": [],
   "source": [
    "mesh_2023_C"
   ],
   "metadata": {
    "collapsed": false
   },
   "id": "2359146f0f7e8f6"
  },
  {
   "cell_type": "code",
   "execution_count": null,
   "outputs": [],
   "source": [
    "# repalace ''\n",
    "disease_name_[1] = disease_name_[1].str.replace(\"'\", \"\", regex=False)"
   ],
   "metadata": {
    "collapsed": false
   },
   "id": "361b092383a39d72"
  },
  {
   "cell_type": "code",
   "execution_count": null,
   "outputs": [],
   "source": [
    "disease_name_"
   ],
   "metadata": {
    "collapsed": false
   },
   "id": "fe2acb7779279a51"
  },
  {
   "cell_type": "code",
   "execution_count": null,
   "outputs": [],
   "source": [
    "common_disease = disease_name_[disease_name_[1].isin(mesh_2024_C['disease'])]"
   ],
   "metadata": {
    "collapsed": false
   },
   "id": "9c9cee562d9b9cd7"
  },
  {
   "cell_type": "code",
   "execution_count": null,
   "outputs": [],
   "source": [
    "common_disease"
   ],
   "metadata": {
    "collapsed": false
   },
   "id": "ff1fb39525493967"
  },
  {
   "cell_type": "markdown",
   "source": [
    "# mir2disease "
   ],
   "metadata": {
    "collapsed": false
   },
   "id": "f2f170e92edda8cf"
  },
  {
   "cell_type": "code",
   "execution_count": null,
   "outputs": [],
   "source": [
    "mir2disease_all_associations = pd.read_csv('mir2disease.txt', header=None, sep='\\t')"
   ],
   "metadata": {
    "collapsed": false
   },
   "id": "7ce64393ce963a10"
  },
  {
   "cell_type": "code",
   "execution_count": null,
   "outputs": [],
   "source": [
    "mir2disease_all_associations"
   ],
   "metadata": {
    "collapsed": false
   },
   "id": "8b2fc4f4619e7908"
  },
  {
   "cell_type": "code",
   "execution_count": null,
   "outputs": [],
   "source": [
    "mir2disease_all_associations_ = mir2disease_all_associations[[0,1,2]]"
   ],
   "metadata": {
    "collapsed": false
   },
   "id": "7f3616bf21c2538e"
  },
  {
   "cell_type": "code",
   "execution_count": null,
   "outputs": [],
   "source": [
    "mir2disease_all_associations_"
   ],
   "metadata": {
    "collapsed": false
   },
   "id": "d9f6b126c71ce871"
  },
  {
   "cell_type": "code",
   "execution_count": null,
   "outputs": [],
   "source": [
    "mir2disease_all_associations_.columns = ['miRNA', 'disease', 'up/down-regulated']"
   ],
   "metadata": {
    "collapsed": false
   },
   "id": "b518701123431c2"
  },
  {
   "cell_type": "code",
   "execution_count": null,
   "outputs": [],
   "source": [
    "mir2disease_all_associations_"
   ],
   "metadata": {
    "collapsed": false
   },
   "id": "e3cff9cf8e3428be"
  },
  {
   "cell_type": "code",
   "execution_count": null,
   "outputs": [],
   "source": [
    "# mir2disease_all_associations_['association'] = 1"
   ],
   "metadata": {
    "collapsed": false
   },
   "id": "c4f14abcca8ebea0"
  },
  {
   "cell_type": "code",
   "execution_count": null,
   "outputs": [],
   "source": [
    "mir2disease_all_associations_"
   ],
   "metadata": {
    "collapsed": false
   },
   "id": "77004147537a8db5"
  },
  {
   "cell_type": "markdown",
   "source": [
    "# miR2Disease dataset"
   ],
   "metadata": {
    "collapsed": false
   },
   "id": "b7d2046c9d88107f"
  },
  {
   "cell_type": "code",
   "execution_count": null,
   "outputs": [],
   "source": [
    "miR2Disease = pd.read_csv('data/miR2Disease/mir2Disease.csv', header=None)"
   ],
   "metadata": {
    "collapsed": false
   },
   "id": "feacedb1ee0b68a0"
  },
  {
   "cell_type": "code",
   "execution_count": null,
   "outputs": [],
   "source": [
    "miR2Disease"
   ],
   "metadata": {
    "collapsed": false
   },
   "id": "1b2b1b6a9a31df61"
  },
  {
   "cell_type": "code",
   "execution_count": null,
   "outputs": [],
   "source": [
    "miRNA_name_ = miR2Disease[1].unique()\n",
    "miRNA_name_ = np.sort(miRNA_name_)\n",
    "miRNA_name_ = pd.DataFrame(miRNA_name_)"
   ],
   "metadata": {
    "collapsed": false
   },
   "id": "a55624158c50bb95"
  },
  {
   "cell_type": "code",
   "execution_count": null,
   "outputs": [],
   "source": [
    "miRNA_name_"
   ],
   "metadata": {
    "collapsed": false
   },
   "id": "b7900fe658d23f7a"
  },
  {
   "cell_type": "code",
   "execution_count": null,
   "outputs": [],
   "source": [
    "miRNA_name_.insert(0, 'index', range(1, len(miRNA_name_) + 1))"
   ],
   "metadata": {
    "collapsed": false
   },
   "id": "90537949c7dcde86"
  },
  {
   "cell_type": "code",
   "execution_count": null,
   "outputs": [],
   "source": [
    "miRNA_name_"
   ],
   "metadata": {
    "collapsed": false
   },
   "id": "bd5bad523ad27870"
  },
  {
   "cell_type": "code",
   "execution_count": null,
   "outputs": [],
   "source": [
    "# miRNA_name_.to_csv('disease_name.txt', sep=' ', header=False, index=False)"
   ],
   "metadata": {
    "collapsed": false
   },
   "id": "a0b8cf99f4c7c520"
  },
  {
   "cell_type": "markdown",
   "source": [
    "# association"
   ],
   "metadata": {
    "collapsed": false
   },
   "id": "1308fe4469a89843"
  },
  {
   "cell_type": "code",
   "execution_count": null,
   "outputs": [],
   "source": [
    "miRNAname = pd.read_csv('data/miR2Disease/0-1/miRNA_name.txt', sep=' ', header=None)\n",
    "diseasename = pd.read_csv('data/miR2Disease/0-1/disease_name.txt', sep=' ', header=None)"
   ],
   "metadata": {
    "collapsed": false
   },
   "id": "c60a6ef11b613dac"
  },
  {
   "cell_type": "code",
   "execution_count": null,
   "outputs": [],
   "source": [
    "diseasename"
   ],
   "metadata": {
    "collapsed": false
   },
   "id": "9f9fc3de4b80a439"
  },
  {
   "cell_type": "code",
   "execution_count": null,
   "outputs": [],
   "source": [
    "zero = np.zeros((len(miRNAname), len(diseasename)))"
   ],
   "metadata": {
    "collapsed": false
   },
   "id": "cec256a67d862f48"
  },
  {
   "cell_type": "code",
   "execution_count": null,
   "outputs": [],
   "source": [
    "zero"
   ],
   "metadata": {
    "collapsed": false
   },
   "id": "c0541169b3917988"
  },
  {
   "cell_type": "code",
   "execution_count": null,
   "outputs": [],
   "source": [
    "association_matrix2 = pd.DataFrame(zero, index=miRNAname[1], columns=diseasename[1])"
   ],
   "metadata": {
    "collapsed": false
   },
   "id": "75ffed929d8ed06e"
  },
  {
   "cell_type": "code",
   "execution_count": null,
   "outputs": [],
   "source": [
    "association_matrix2"
   ],
   "metadata": {
    "collapsed": false
   },
   "id": "12df3fabafbe0be3"
  },
  {
   "cell_type": "code",
   "execution_count": null,
   "outputs": [],
   "source": [
    "mda = pd.read_csv('data/miR2Disease/-1-0-1/miR2Disease_MDAthree.csv', header=None)"
   ],
   "metadata": {
    "collapsed": false
   },
   "id": "d9add882d6a39ce3"
  },
  {
   "cell_type": "code",
   "execution_count": null,
   "outputs": [],
   "source": [
    "mda"
   ],
   "metadata": {
    "collapsed": false
   },
   "id": "c78cebd622fb2a7e"
  },
  {
   "cell_type": "code",
   "execution_count": null,
   "outputs": [],
   "source": [
    "# mda01 = mda[[0, 1, 3]]"
   ],
   "metadata": {
    "collapsed": false
   },
   "id": "678d50647f5d727f"
  },
  {
   "cell_type": "code",
   "execution_count": null,
   "outputs": [],
   "source": [
    "# mda01"
   ],
   "metadata": {
    "collapsed": false
   },
   "id": "e19c8e8518e8dd8f"
  },
  {
   "cell_type": "code",
   "execution_count": null,
   "outputs": [],
   "source": [
    "# mda01_un = mda01.drop_duplicates()\n",
    "mda011_un = mda.drop_duplicates()"
   ],
   "metadata": {
    "collapsed": false
   },
   "id": "a7ef18ba51804878"
  },
  {
   "cell_type": "code",
   "execution_count": null,
   "outputs": [],
   "source": [
    "mda011_un"
   ],
   "metadata": {
    "collapsed": false
   },
   "id": "9125594392021c59"
  },
  {
   "cell_type": "code",
   "execution_count": null,
   "outputs": [],
   "source": [
    "# 检查是否包含nan值在这些标签中\n",
    "filtered_mda011_un = mda011_un[mda011_un[2] != 'hepatocellular carcinoma (HCC)']"
   ],
   "metadata": {
    "collapsed": false
   },
   "id": "675251b12696b58b"
  },
  {
   "cell_type": "code",
   "execution_count": null,
   "outputs": [],
   "source": [
    "filtered_mda011_un_1 = filtered_mda011_un.dropna(subset=[2])"
   ],
   "metadata": {
    "collapsed": false
   },
   "id": "ac14ee36af3557ee"
  },
  {
   "cell_type": "code",
   "execution_count": null,
   "outputs": [],
   "source": [
    "filtered_mda011_un_1"
   ],
   "metadata": {
    "collapsed": false
   },
   "id": "d3ee7a86b4bec6cd"
  },
  {
   "cell_type": "code",
   "execution_count": null,
   "outputs": [],
   "source": [
    "for index, row in filtered_mda011_un_1.iterrows():\n",
    "    miRNA = row[0]\n",
    "    disease = row[1]\n",
    "    label = row[2]\n",
    "    if miRNA in association_matrix2.index and disease in association_matrix2.columns:\n",
    "        association_matrix2.loc[miRNA, disease] = label"
   ],
   "metadata": {
    "collapsed": false
   },
   "id": "4129b2f14e5430d0"
  },
  {
   "cell_type": "code",
   "execution_count": null,
   "outputs": [],
   "source": [
    "association_matrix2"
   ],
   "metadata": {
    "collapsed": false
   },
   "id": "e5dd9bd2a4cadfd9"
  },
  {
   "cell_type": "code",
   "execution_count": null,
   "outputs": [],
   "source": [
    "non_zero_count = np.count_nonzero(association_matrix2.values)"
   ],
   "metadata": {
    "collapsed": false
   },
   "id": "a06d4b98351b9171"
  },
  {
   "cell_type": "code",
   "execution_count": null,
   "outputs": [],
   "source": [
    "non_zero_count"
   ],
   "metadata": {
    "collapsed": false
   },
   "id": "a668bde0eeeeae3e"
  },
  {
   "cell_type": "code",
   "execution_count": null,
   "outputs": [],
   "source": [
    "# association_matrix2.to_csv('miR2Disease_MDA011_.csv', sep='\\t', header=False, index=False)"
   ],
   "metadata": {
    "collapsed": false
   },
   "id": "fcc2d084302f3eef"
  },
  {
   "cell_type": "markdown",
   "source": [
    "# miR2Disease(-1/0/1)"
   ],
   "metadata": {
    "collapsed": false
   },
   "id": "5378ed1d4d2b88d2"
  },
  {
   "cell_type": "code",
   "execution_count": null,
   "outputs": [],
   "source": [
    "mda011 = pd.read_csv('data/miR2Disease/mir2Disease.csv', header=None)"
   ],
   "metadata": {
    "collapsed": false
   },
   "id": "2efe08ce5095cb49"
  },
  {
   "cell_type": "code",
   "execution_count": null,
   "outputs": [],
   "source": [
    "mda011_1 = mda011[[0, 1, 2]]"
   ],
   "metadata": {
    "collapsed": false
   },
   "id": "7189745467ea870a"
  },
  {
   "cell_type": "code",
   "execution_count": null,
   "outputs": [],
   "source": [
    "mda011_1"
   ],
   "metadata": {
    "collapsed": false
   },
   "id": "3bad4f26da0891b2"
  },
  {
   "cell_type": "code",
   "execution_count": null,
   "outputs": [],
   "source": [
    "# select 1 and -1 \n",
    "filtered_mda011  = mda011_1[mda011_1[2] != 'normal']"
   ],
   "metadata": {
    "collapsed": false
   },
   "id": "4a1c86d60a57ec6e"
  },
  {
   "cell_type": "code",
   "execution_count": null,
   "outputs": [],
   "source": [
    "# filtered_mda011.to_csv('miR2Disease_MDAthree.csv', header=False, index=False)\n",
    "filtered_mda011"
   ],
   "metadata": {
    "collapsed": false
   },
   "id": "1cf13ecc6f7efebb"
  },
  {
   "cell_type": "code",
   "execution_count": null,
   "outputs": [],
   "source": [],
   "metadata": {
    "collapsed": false
   },
   "id": "fbd8a836ee83d5da"
  },
  {
   "cell_type": "markdown",
   "source": [
    "# case study"
   ],
   "metadata": {
    "collapsed": false
   },
   "id": "16ceaa95866e282c"
  },
  {
   "cell_type": "code",
   "execution_count": 3,
   "outputs": [],
   "source": [
    "association_scores = pd.read_csv('case.csv', header=None)"
   ],
   "metadata": {
    "collapsed": false,
    "ExecuteTime": {
     "end_time": "2025-01-09T12:41:01.292986Z",
     "start_time": "2025-01-09T12:41:01.238823800Z"
    }
   },
   "id": "3a1b3bb6f8816f60"
  },
  {
   "cell_type": "code",
   "execution_count": 4,
   "outputs": [
    {
     "data": {
      "text/plain": "          0         1         2         3         4         5         6    \\\n0    0.035264  0.036608  0.008519  0.036228  0.039967  0.102606  0.008738   \n1    0.043434  0.037668  0.008297  0.067957  0.058046  0.166448  0.009457   \n2    0.017490  0.021071  0.005142  0.018108  0.029701  0.087296  0.002947   \n3    0.019305  0.023203  0.003825  0.017616  0.022324  0.067190  0.002846   \n4    0.096343  0.084174  0.022356  0.073862  0.087563  0.341022  0.013064   \n..        ...       ...       ...       ...       ...       ...       ...   \n490  0.007355  0.006261  0.001629  0.009650  0.010843  0.034885  0.000960   \n491  0.013918  0.015391  0.002051  0.010237  0.010736  0.040218  0.001745   \n492  0.005216  0.005910  0.001321  0.007559  0.008675  0.035273  0.001315   \n493  0.008036  0.005959  0.001771  0.010435  0.011463  0.039100  0.001244   \n494  0.007799  0.007931  0.002321  0.011542  0.019334  0.064259  0.001977   \n\n          7         8         9    ...       373       374       375  \\\n0    0.158519  0.015530  0.072579  ...  0.082273  0.017766  0.106716   \n1    0.209028  0.026745  0.062891  ...  0.142936  0.026325  0.158378   \n2    0.162721  0.007113  0.037637  ...  0.034988  0.006684  0.092110   \n3    0.096980  0.007709  0.034399  ...  0.037732  0.005955  0.062766   \n4    0.277735  0.030674  0.133109  ...  0.143062  0.029095  0.295382   \n..        ...       ...       ...  ...       ...       ...       ...   \n490  0.053440  0.003204  0.014558  ...  0.019987  0.004575  0.046102   \n491  0.089101  0.004502  0.031877  ...  0.024267  0.003838  0.036550   \n492  0.090190  0.002938  0.016709  ...  0.014765  0.001854  0.041703   \n493  0.046928  0.004172  0.019736  ...  0.018209  0.004473  0.043839   \n494  0.126748  0.003710  0.020181  ...  0.022586  0.006503  0.060403   \n\n          376       377       378       379       380       381       382  \n0    0.196236  0.032594  0.020691  0.011345  0.012433  0.009139  0.018433  \n1    0.215159  0.066426  0.027700  0.013079  0.026592  0.018185  0.026639  \n2    0.163183  0.023434  0.007647  0.006577  0.007261  0.006012  0.008917  \n3    0.149888  0.018845  0.009539  0.004795  0.007807  0.005125  0.006973  \n4    0.364304  0.063648  0.037158  0.031438  0.034650  0.029129  0.024807  \n..        ...       ...       ...       ...       ...       ...       ...  \n490  0.072848  0.012837  0.005284  0.001787  0.002383  0.001997  0.002967  \n491  0.122203  0.009095  0.005252  0.003077  0.003438  0.003121  0.005233  \n492  0.101088  0.007721  0.003117  0.002359  0.002529  0.001766  0.003070  \n493  0.082181  0.017477  0.004830  0.001944  0.003362  0.001536  0.002826  \n494  0.117878  0.030736  0.005120  0.005148  0.003029  0.003441  0.005328  \n\n[495 rows x 383 columns]",
      "text/html": "<div>\n<style scoped>\n    .dataframe tbody tr th:only-of-type {\n        vertical-align: middle;\n    }\n\n    .dataframe tbody tr th {\n        vertical-align: top;\n    }\n\n    .dataframe thead th {\n        text-align: right;\n    }\n</style>\n<table border=\"1\" class=\"dataframe\">\n  <thead>\n    <tr style=\"text-align: right;\">\n      <th></th>\n      <th>0</th>\n      <th>1</th>\n      <th>2</th>\n      <th>3</th>\n      <th>4</th>\n      <th>5</th>\n      <th>6</th>\n      <th>7</th>\n      <th>8</th>\n      <th>9</th>\n      <th>...</th>\n      <th>373</th>\n      <th>374</th>\n      <th>375</th>\n      <th>376</th>\n      <th>377</th>\n      <th>378</th>\n      <th>379</th>\n      <th>380</th>\n      <th>381</th>\n      <th>382</th>\n    </tr>\n  </thead>\n  <tbody>\n    <tr>\n      <th>0</th>\n      <td>0.035264</td>\n      <td>0.036608</td>\n      <td>0.008519</td>\n      <td>0.036228</td>\n      <td>0.039967</td>\n      <td>0.102606</td>\n      <td>0.008738</td>\n      <td>0.158519</td>\n      <td>0.015530</td>\n      <td>0.072579</td>\n      <td>...</td>\n      <td>0.082273</td>\n      <td>0.017766</td>\n      <td>0.106716</td>\n      <td>0.196236</td>\n      <td>0.032594</td>\n      <td>0.020691</td>\n      <td>0.011345</td>\n      <td>0.012433</td>\n      <td>0.009139</td>\n      <td>0.018433</td>\n    </tr>\n    <tr>\n      <th>1</th>\n      <td>0.043434</td>\n      <td>0.037668</td>\n      <td>0.008297</td>\n      <td>0.067957</td>\n      <td>0.058046</td>\n      <td>0.166448</td>\n      <td>0.009457</td>\n      <td>0.209028</td>\n      <td>0.026745</td>\n      <td>0.062891</td>\n      <td>...</td>\n      <td>0.142936</td>\n      <td>0.026325</td>\n      <td>0.158378</td>\n      <td>0.215159</td>\n      <td>0.066426</td>\n      <td>0.027700</td>\n      <td>0.013079</td>\n      <td>0.026592</td>\n      <td>0.018185</td>\n      <td>0.026639</td>\n    </tr>\n    <tr>\n      <th>2</th>\n      <td>0.017490</td>\n      <td>0.021071</td>\n      <td>0.005142</td>\n      <td>0.018108</td>\n      <td>0.029701</td>\n      <td>0.087296</td>\n      <td>0.002947</td>\n      <td>0.162721</td>\n      <td>0.007113</td>\n      <td>0.037637</td>\n      <td>...</td>\n      <td>0.034988</td>\n      <td>0.006684</td>\n      <td>0.092110</td>\n      <td>0.163183</td>\n      <td>0.023434</td>\n      <td>0.007647</td>\n      <td>0.006577</td>\n      <td>0.007261</td>\n      <td>0.006012</td>\n      <td>0.008917</td>\n    </tr>\n    <tr>\n      <th>3</th>\n      <td>0.019305</td>\n      <td>0.023203</td>\n      <td>0.003825</td>\n      <td>0.017616</td>\n      <td>0.022324</td>\n      <td>0.067190</td>\n      <td>0.002846</td>\n      <td>0.096980</td>\n      <td>0.007709</td>\n      <td>0.034399</td>\n      <td>...</td>\n      <td>0.037732</td>\n      <td>0.005955</td>\n      <td>0.062766</td>\n      <td>0.149888</td>\n      <td>0.018845</td>\n      <td>0.009539</td>\n      <td>0.004795</td>\n      <td>0.007807</td>\n      <td>0.005125</td>\n      <td>0.006973</td>\n    </tr>\n    <tr>\n      <th>4</th>\n      <td>0.096343</td>\n      <td>0.084174</td>\n      <td>0.022356</td>\n      <td>0.073862</td>\n      <td>0.087563</td>\n      <td>0.341022</td>\n      <td>0.013064</td>\n      <td>0.277735</td>\n      <td>0.030674</td>\n      <td>0.133109</td>\n      <td>...</td>\n      <td>0.143062</td>\n      <td>0.029095</td>\n      <td>0.295382</td>\n      <td>0.364304</td>\n      <td>0.063648</td>\n      <td>0.037158</td>\n      <td>0.031438</td>\n      <td>0.034650</td>\n      <td>0.029129</td>\n      <td>0.024807</td>\n    </tr>\n    <tr>\n      <th>...</th>\n      <td>...</td>\n      <td>...</td>\n      <td>...</td>\n      <td>...</td>\n      <td>...</td>\n      <td>...</td>\n      <td>...</td>\n      <td>...</td>\n      <td>...</td>\n      <td>...</td>\n      <td>...</td>\n      <td>...</td>\n      <td>...</td>\n      <td>...</td>\n      <td>...</td>\n      <td>...</td>\n      <td>...</td>\n      <td>...</td>\n      <td>...</td>\n      <td>...</td>\n      <td>...</td>\n    </tr>\n    <tr>\n      <th>490</th>\n      <td>0.007355</td>\n      <td>0.006261</td>\n      <td>0.001629</td>\n      <td>0.009650</td>\n      <td>0.010843</td>\n      <td>0.034885</td>\n      <td>0.000960</td>\n      <td>0.053440</td>\n      <td>0.003204</td>\n      <td>0.014558</td>\n      <td>...</td>\n      <td>0.019987</td>\n      <td>0.004575</td>\n      <td>0.046102</td>\n      <td>0.072848</td>\n      <td>0.012837</td>\n      <td>0.005284</td>\n      <td>0.001787</td>\n      <td>0.002383</td>\n      <td>0.001997</td>\n      <td>0.002967</td>\n    </tr>\n    <tr>\n      <th>491</th>\n      <td>0.013918</td>\n      <td>0.015391</td>\n      <td>0.002051</td>\n      <td>0.010237</td>\n      <td>0.010736</td>\n      <td>0.040218</td>\n      <td>0.001745</td>\n      <td>0.089101</td>\n      <td>0.004502</td>\n      <td>0.031877</td>\n      <td>...</td>\n      <td>0.024267</td>\n      <td>0.003838</td>\n      <td>0.036550</td>\n      <td>0.122203</td>\n      <td>0.009095</td>\n      <td>0.005252</td>\n      <td>0.003077</td>\n      <td>0.003438</td>\n      <td>0.003121</td>\n      <td>0.005233</td>\n    </tr>\n    <tr>\n      <th>492</th>\n      <td>0.005216</td>\n      <td>0.005910</td>\n      <td>0.001321</td>\n      <td>0.007559</td>\n      <td>0.008675</td>\n      <td>0.035273</td>\n      <td>0.001315</td>\n      <td>0.090190</td>\n      <td>0.002938</td>\n      <td>0.016709</td>\n      <td>...</td>\n      <td>0.014765</td>\n      <td>0.001854</td>\n      <td>0.041703</td>\n      <td>0.101088</td>\n      <td>0.007721</td>\n      <td>0.003117</td>\n      <td>0.002359</td>\n      <td>0.002529</td>\n      <td>0.001766</td>\n      <td>0.003070</td>\n    </tr>\n    <tr>\n      <th>493</th>\n      <td>0.008036</td>\n      <td>0.005959</td>\n      <td>0.001771</td>\n      <td>0.010435</td>\n      <td>0.011463</td>\n      <td>0.039100</td>\n      <td>0.001244</td>\n      <td>0.046928</td>\n      <td>0.004172</td>\n      <td>0.019736</td>\n      <td>...</td>\n      <td>0.018209</td>\n      <td>0.004473</td>\n      <td>0.043839</td>\n      <td>0.082181</td>\n      <td>0.017477</td>\n      <td>0.004830</td>\n      <td>0.001944</td>\n      <td>0.003362</td>\n      <td>0.001536</td>\n      <td>0.002826</td>\n    </tr>\n    <tr>\n      <th>494</th>\n      <td>0.007799</td>\n      <td>0.007931</td>\n      <td>0.002321</td>\n      <td>0.011542</td>\n      <td>0.019334</td>\n      <td>0.064259</td>\n      <td>0.001977</td>\n      <td>0.126748</td>\n      <td>0.003710</td>\n      <td>0.020181</td>\n      <td>...</td>\n      <td>0.022586</td>\n      <td>0.006503</td>\n      <td>0.060403</td>\n      <td>0.117878</td>\n      <td>0.030736</td>\n      <td>0.005120</td>\n      <td>0.005148</td>\n      <td>0.003029</td>\n      <td>0.003441</td>\n      <td>0.005328</td>\n    </tr>\n  </tbody>\n</table>\n<p>495 rows × 383 columns</p>\n</div>"
     },
     "execution_count": 4,
     "metadata": {},
     "output_type": "execute_result"
    }
   ],
   "source": [
    "association_scores# "
   ],
   "metadata": {
    "collapsed": false,
    "ExecuteTime": {
     "end_time": "2025-01-09T12:41:02.786657100Z",
     "start_time": "2025-01-09T12:41:02.752007Z"
    }
   },
   "id": "bf67d66e9c3bc650"
  },
  {
   "cell_type": "code",
   "execution_count": 5,
   "outputs": [],
   "source": [
    "mda = pd.read_csv('data/HMDD v2.0/HMDD v2.0_MDA.csv',header=None, sep=',')"
   ],
   "metadata": {
    "collapsed": false,
    "ExecuteTime": {
     "end_time": "2025-01-09T12:41:08.239672500Z",
     "start_time": "2025-01-09T12:41:08.200722Z"
    }
   },
   "id": "bb24f30487fa84fd"
  },
  {
   "cell_type": "code",
   "execution_count": 6,
   "outputs": [
    {
     "data": {
      "text/plain": "          0    1  2\n0         1    1  1\n1         1    2  0\n2         1    3  0\n3         1    4  0\n4         1    5  0\n...     ...  ... ..\n189580  495  379  0\n189581  495  380  0\n189582  495  381  0\n189583  495  382  0\n189584  495  383  0\n\n[189585 rows x 3 columns]",
      "text/html": "<div>\n<style scoped>\n    .dataframe tbody tr th:only-of-type {\n        vertical-align: middle;\n    }\n\n    .dataframe tbody tr th {\n        vertical-align: top;\n    }\n\n    .dataframe thead th {\n        text-align: right;\n    }\n</style>\n<table border=\"1\" class=\"dataframe\">\n  <thead>\n    <tr style=\"text-align: right;\">\n      <th></th>\n      <th>0</th>\n      <th>1</th>\n      <th>2</th>\n    </tr>\n  </thead>\n  <tbody>\n    <tr>\n      <th>0</th>\n      <td>1</td>\n      <td>1</td>\n      <td>1</td>\n    </tr>\n    <tr>\n      <th>1</th>\n      <td>1</td>\n      <td>2</td>\n      <td>0</td>\n    </tr>\n    <tr>\n      <th>2</th>\n      <td>1</td>\n      <td>3</td>\n      <td>0</td>\n    </tr>\n    <tr>\n      <th>3</th>\n      <td>1</td>\n      <td>4</td>\n      <td>0</td>\n    </tr>\n    <tr>\n      <th>4</th>\n      <td>1</td>\n      <td>5</td>\n      <td>0</td>\n    </tr>\n    <tr>\n      <th>...</th>\n      <td>...</td>\n      <td>...</td>\n      <td>...</td>\n    </tr>\n    <tr>\n      <th>189580</th>\n      <td>495</td>\n      <td>379</td>\n      <td>0</td>\n    </tr>\n    <tr>\n      <th>189581</th>\n      <td>495</td>\n      <td>380</td>\n      <td>0</td>\n    </tr>\n    <tr>\n      <th>189582</th>\n      <td>495</td>\n      <td>381</td>\n      <td>0</td>\n    </tr>\n    <tr>\n      <th>189583</th>\n      <td>495</td>\n      <td>382</td>\n      <td>0</td>\n    </tr>\n    <tr>\n      <th>189584</th>\n      <td>495</td>\n      <td>383</td>\n      <td>0</td>\n    </tr>\n  </tbody>\n</table>\n<p>189585 rows × 3 columns</p>\n</div>"
     },
     "execution_count": 6,
     "metadata": {},
     "output_type": "execute_result"
    }
   ],
   "source": [
    "mda"
   ],
   "metadata": {
    "collapsed": false,
    "ExecuteTime": {
     "end_time": "2025-01-09T12:41:11.987476Z",
     "start_time": "2025-01-09T12:41:11.968457Z"
    }
   },
   "id": "e735c92f16e8c509"
  },
  {
   "cell_type": "code",
   "execution_count": 7,
   "outputs": [],
   "source": [
    "filter_mda_1 = mda[mda.iloc[:,2]==1]"
   ],
   "metadata": {
    "collapsed": false,
    "ExecuteTime": {
     "end_time": "2025-01-09T12:41:13.027215700Z",
     "start_time": "2025-01-09T12:41:13.007647900Z"
    }
   },
   "id": "9fb15259d422a6fe"
  },
  {
   "cell_type": "code",
   "execution_count": 8,
   "outputs": [
    {
     "data": {
      "text/plain": "          0    1  2\n0         1    1  1\n36        1   37  1\n49        1   50  1\n53        1   54  1\n58        1   59  1\n...     ...  ... ..\n188045  491  376  1\n188429  492  377  1\n188812  493  377  1\n189195  494  377  1\n189579  495  378  1\n\n[5430 rows x 3 columns]",
      "text/html": "<div>\n<style scoped>\n    .dataframe tbody tr th:only-of-type {\n        vertical-align: middle;\n    }\n\n    .dataframe tbody tr th {\n        vertical-align: top;\n    }\n\n    .dataframe thead th {\n        text-align: right;\n    }\n</style>\n<table border=\"1\" class=\"dataframe\">\n  <thead>\n    <tr style=\"text-align: right;\">\n      <th></th>\n      <th>0</th>\n      <th>1</th>\n      <th>2</th>\n    </tr>\n  </thead>\n  <tbody>\n    <tr>\n      <th>0</th>\n      <td>1</td>\n      <td>1</td>\n      <td>1</td>\n    </tr>\n    <tr>\n      <th>36</th>\n      <td>1</td>\n      <td>37</td>\n      <td>1</td>\n    </tr>\n    <tr>\n      <th>49</th>\n      <td>1</td>\n      <td>50</td>\n      <td>1</td>\n    </tr>\n    <tr>\n      <th>53</th>\n      <td>1</td>\n      <td>54</td>\n      <td>1</td>\n    </tr>\n    <tr>\n      <th>58</th>\n      <td>1</td>\n      <td>59</td>\n      <td>1</td>\n    </tr>\n    <tr>\n      <th>...</th>\n      <td>...</td>\n      <td>...</td>\n      <td>...</td>\n    </tr>\n    <tr>\n      <th>188045</th>\n      <td>491</td>\n      <td>376</td>\n      <td>1</td>\n    </tr>\n    <tr>\n      <th>188429</th>\n      <td>492</td>\n      <td>377</td>\n      <td>1</td>\n    </tr>\n    <tr>\n      <th>188812</th>\n      <td>493</td>\n      <td>377</td>\n      <td>1</td>\n    </tr>\n    <tr>\n      <th>189195</th>\n      <td>494</td>\n      <td>377</td>\n      <td>1</td>\n    </tr>\n    <tr>\n      <th>189579</th>\n      <td>495</td>\n      <td>378</td>\n      <td>1</td>\n    </tr>\n  </tbody>\n</table>\n<p>5430 rows × 3 columns</p>\n</div>"
     },
     "execution_count": 8,
     "metadata": {},
     "output_type": "execute_result"
    }
   ],
   "source": [
    "filter_mda_1"
   ],
   "metadata": {
    "collapsed": false,
    "ExecuteTime": {
     "end_time": "2025-01-09T12:41:14.379482400Z",
     "start_time": "2025-01-09T12:41:14.348156200Z"
    }
   },
   "id": "37f22340da6afea1"
  },
  {
   "cell_type": "code",
   "execution_count": 9,
   "outputs": [
    {
     "name": "stderr",
     "output_type": "stream",
     "text": [
      "C:\\Users\\Huawei\\AppData\\Local\\Temp\\ipykernel_22204\\253854734.py:1: SettingWithCopyWarning: \n",
      "A value is trying to be set on a copy of a slice from a DataFrame.\n",
      "Try using .loc[row_indexer,col_indexer] = value instead\n",
      "\n",
      "See the caveats in the documentation: https://pandas.pydata.org/pandas-docs/stable/user_guide/indexing.html#returning-a-view-versus-a-copy\n",
      "  filter_mda_1[0] = filter_mda_1[0] - 1\n",
      "C:\\Users\\Huawei\\AppData\\Local\\Temp\\ipykernel_22204\\253854734.py:2: SettingWithCopyWarning: \n",
      "A value is trying to be set on a copy of a slice from a DataFrame.\n",
      "Try using .loc[row_indexer,col_indexer] = value instead\n",
      "\n",
      "See the caveats in the documentation: https://pandas.pydata.org/pandas-docs/stable/user_guide/indexing.html#returning-a-view-versus-a-copy\n",
      "  filter_mda_1[1] = filter_mda_1[1] - 1\n"
     ]
    }
   ],
   "source": [
    "filter_mda_1[0] = filter_mda_1[0] - 1\n",
    "filter_mda_1[1] = filter_mda_1[1] - 1"
   ],
   "metadata": {
    "collapsed": false,
    "ExecuteTime": {
     "end_time": "2025-01-09T12:41:19.396068200Z",
     "start_time": "2025-01-09T12:41:19.374790400Z"
    }
   },
   "id": "95801677b157046a"
  },
  {
   "cell_type": "code",
   "execution_count": 10,
   "outputs": [
    {
     "data": {
      "text/plain": "          0    1  2\n0         0    0  1\n36        0   36  1\n49        0   49  1\n53        0   53  1\n58        0   58  1\n...     ...  ... ..\n188045  490  375  1\n188429  491  376  1\n188812  492  376  1\n189195  493  376  1\n189579  494  377  1\n\n[5430 rows x 3 columns]",
      "text/html": "<div>\n<style scoped>\n    .dataframe tbody tr th:only-of-type {\n        vertical-align: middle;\n    }\n\n    .dataframe tbody tr th {\n        vertical-align: top;\n    }\n\n    .dataframe thead th {\n        text-align: right;\n    }\n</style>\n<table border=\"1\" class=\"dataframe\">\n  <thead>\n    <tr style=\"text-align: right;\">\n      <th></th>\n      <th>0</th>\n      <th>1</th>\n      <th>2</th>\n    </tr>\n  </thead>\n  <tbody>\n    <tr>\n      <th>0</th>\n      <td>0</td>\n      <td>0</td>\n      <td>1</td>\n    </tr>\n    <tr>\n      <th>36</th>\n      <td>0</td>\n      <td>36</td>\n      <td>1</td>\n    </tr>\n    <tr>\n      <th>49</th>\n      <td>0</td>\n      <td>49</td>\n      <td>1</td>\n    </tr>\n    <tr>\n      <th>53</th>\n      <td>0</td>\n      <td>53</td>\n      <td>1</td>\n    </tr>\n    <tr>\n      <th>58</th>\n      <td>0</td>\n      <td>58</td>\n      <td>1</td>\n    </tr>\n    <tr>\n      <th>...</th>\n      <td>...</td>\n      <td>...</td>\n      <td>...</td>\n    </tr>\n    <tr>\n      <th>188045</th>\n      <td>490</td>\n      <td>375</td>\n      <td>1</td>\n    </tr>\n    <tr>\n      <th>188429</th>\n      <td>491</td>\n      <td>376</td>\n      <td>1</td>\n    </tr>\n    <tr>\n      <th>188812</th>\n      <td>492</td>\n      <td>376</td>\n      <td>1</td>\n    </tr>\n    <tr>\n      <th>189195</th>\n      <td>493</td>\n      <td>376</td>\n      <td>1</td>\n    </tr>\n    <tr>\n      <th>189579</th>\n      <td>494</td>\n      <td>377</td>\n      <td>1</td>\n    </tr>\n  </tbody>\n</table>\n<p>5430 rows × 3 columns</p>\n</div>"
     },
     "execution_count": 10,
     "metadata": {},
     "output_type": "execute_result"
    }
   ],
   "source": [
    "filter_mda_1"
   ],
   "metadata": {
    "collapsed": false,
    "ExecuteTime": {
     "end_time": "2025-01-09T12:41:22.084595600Z",
     "start_time": "2025-01-09T12:41:22.056642200Z"
    }
   },
   "id": "d238516807df9c93"
  },
  {
   "cell_type": "code",
   "execution_count": 11,
   "outputs": [
    {
     "name": "stderr",
     "output_type": "stream",
     "text": [
      "C:\\Users\\Huawei\\AppData\\Local\\Temp\\ipykernel_22204\\3049958899.py:1: SettingWithCopyWarning: \n",
      "A value is trying to be set on a copy of a slice from a DataFrame.\n",
      "Try using .loc[row_indexer,col_indexer] = value instead\n",
      "\n",
      "See the caveats in the documentation: https://pandas.pydata.org/pandas-docs/stable/user_guide/indexing.html#returning-a-view-versus-a-copy\n",
      "  filter_mda_1[2] = -1\n"
     ]
    }
   ],
   "source": [
    "filter_mda_1[2] = -1"
   ],
   "metadata": {
    "collapsed": false,
    "ExecuteTime": {
     "end_time": "2025-01-09T12:41:42.924760500Z",
     "start_time": "2025-01-09T12:41:42.901126700Z"
    }
   },
   "id": "8b4d4807140c7122"
  },
  {
   "cell_type": "code",
   "execution_count": 14,
   "outputs": [
    {
     "data": {
      "text/plain": "          0    1  2\n0         0    0 -1\n36        0   36 -1\n49        0   49 -1\n53        0   53 -1\n58        0   58 -1\n...     ...  ... ..\n188045  490  375 -1\n188429  491  376 -1\n188812  492  376 -1\n189195  493  376 -1\n189579  494  377 -1\n\n[5430 rows x 3 columns]",
      "text/html": "<div>\n<style scoped>\n    .dataframe tbody tr th:only-of-type {\n        vertical-align: middle;\n    }\n\n    .dataframe tbody tr th {\n        vertical-align: top;\n    }\n\n    .dataframe thead th {\n        text-align: right;\n    }\n</style>\n<table border=\"1\" class=\"dataframe\">\n  <thead>\n    <tr style=\"text-align: right;\">\n      <th></th>\n      <th>0</th>\n      <th>1</th>\n      <th>2</th>\n    </tr>\n  </thead>\n  <tbody>\n    <tr>\n      <th>0</th>\n      <td>0</td>\n      <td>0</td>\n      <td>-1</td>\n    </tr>\n    <tr>\n      <th>36</th>\n      <td>0</td>\n      <td>36</td>\n      <td>-1</td>\n    </tr>\n    <tr>\n      <th>49</th>\n      <td>0</td>\n      <td>49</td>\n      <td>-1</td>\n    </tr>\n    <tr>\n      <th>53</th>\n      <td>0</td>\n      <td>53</td>\n      <td>-1</td>\n    </tr>\n    <tr>\n      <th>58</th>\n      <td>0</td>\n      <td>58</td>\n      <td>-1</td>\n    </tr>\n    <tr>\n      <th>...</th>\n      <td>...</td>\n      <td>...</td>\n      <td>...</td>\n    </tr>\n    <tr>\n      <th>188045</th>\n      <td>490</td>\n      <td>375</td>\n      <td>-1</td>\n    </tr>\n    <tr>\n      <th>188429</th>\n      <td>491</td>\n      <td>376</td>\n      <td>-1</td>\n    </tr>\n    <tr>\n      <th>188812</th>\n      <td>492</td>\n      <td>376</td>\n      <td>-1</td>\n    </tr>\n    <tr>\n      <th>189195</th>\n      <td>493</td>\n      <td>376</td>\n      <td>-1</td>\n    </tr>\n    <tr>\n      <th>189579</th>\n      <td>494</td>\n      <td>377</td>\n      <td>-1</td>\n    </tr>\n  </tbody>\n</table>\n<p>5430 rows × 3 columns</p>\n</div>"
     },
     "execution_count": 14,
     "metadata": {},
     "output_type": "execute_result"
    }
   ],
   "source": [
    "filter_mda_1"
   ],
   "metadata": {
    "collapsed": false,
    "ExecuteTime": {
     "end_time": "2025-01-09T12:45:01.537196600Z",
     "start_time": "2025-01-09T12:45:01.507547700Z"
    }
   },
   "id": "12add5f0667f47db"
  },
  {
   "cell_type": "code",
   "execution_count": 19,
   "outputs": [],
   "source": [
    "for index, row in filter_mda_1.iterrows():\n",
    "    miRNA = row[0]\n",
    "    disease = row[1]\n",
    "    if miRNA in association_scores.index and disease in association_scores.columns:\n",
    "        association_scores.at[miRNA, disease] = -1\n",
    "        "
   ],
   "metadata": {
    "collapsed": false,
    "ExecuteTime": {
     "end_time": "2025-01-09T12:51:28.520104600Z",
     "start_time": "2025-01-09T12:51:28.302182100Z"
    }
   },
   "id": "58946ba090369f3f"
  },
  {
   "cell_type": "code",
   "execution_count": 20,
   "outputs": [
    {
     "data": {
      "text/plain": "          0         1         2         3         4         5         6    \\\n0   -1.000000  0.036608  0.008519  0.036228  0.039967  0.102606  0.008738   \n1   -1.000000  0.037668  0.008297  0.067957  0.058046 -1.000000  0.009457   \n2   -1.000000  0.021071  0.005142  0.018108  0.029701  0.087296  0.002947   \n3    0.019305 -1.000000  0.003825  0.017616  0.022324  0.067190  0.002846   \n4    0.096343 -1.000000  0.022356  0.073862  0.087563  0.341022  0.013064   \n..        ...       ...       ...       ...       ...       ...       ...   \n490  0.007355  0.006261  0.001629  0.009650  0.010843  0.034885  0.000960   \n491  0.013918  0.015391  0.002051  0.010237  0.010736  0.040218  0.001745   \n492  0.005216  0.005910  0.001321  0.007559  0.008675  0.035273  0.001315   \n493  0.008036  0.005959  0.001771  0.010435  0.011463  0.039100  0.001244   \n494  0.007799  0.007931  0.002321  0.011542  0.019334  0.064259  0.001977   \n\n          7         8         9    ...       373       374       375  \\\n0    0.158519  0.015530  0.072579  ...  0.082273  0.017766  0.106716   \n1    0.209028  0.026745  0.062891  ...  0.142936  0.026325  0.158378   \n2    0.162721  0.007113  0.037637  ...  0.034988  0.006684 -1.000000   \n3    0.096980  0.007709  0.034399  ...  0.037732  0.005955  0.062766   \n4    0.277735  0.030674  0.133109  ...  0.143062  0.029095 -1.000000   \n..        ...       ...       ...  ...       ...       ...       ...   \n490  0.053440  0.003204  0.014558  ...  0.019987  0.004575 -1.000000   \n491  0.089101  0.004502  0.031877  ...  0.024267  0.003838  0.036550   \n492  0.090190  0.002938  0.016709  ...  0.014765  0.001854  0.041703   \n493  0.046928  0.004172  0.019736  ...  0.018209  0.004473  0.043839   \n494  0.126748  0.003710  0.020181  ...  0.022586  0.006503  0.060403   \n\n          376       377       378       379       380       381       382  \n0    0.196236  0.032594  0.020691  0.011345  0.012433  0.009139  0.018433  \n1   -1.000000 -1.000000  0.027700  0.013079 -1.000000  0.018185  0.026639  \n2    0.163183  0.023434  0.007647  0.006577  0.007261  0.006012  0.008917  \n3    0.149888  0.018845  0.009539  0.004795  0.007807  0.005125  0.006973  \n4    0.364304  0.063648  0.037158  0.031438  0.034650  0.029129  0.024807  \n..        ...       ...       ...       ...       ...       ...       ...  \n490  0.072848  0.012837  0.005284  0.001787  0.002383  0.001997  0.002967  \n491 -1.000000  0.009095  0.005252  0.003077  0.003438  0.003121  0.005233  \n492 -1.000000  0.007721  0.003117  0.002359  0.002529  0.001766  0.003070  \n493 -1.000000  0.017477  0.004830  0.001944  0.003362  0.001536  0.002826  \n494  0.117878 -1.000000  0.005120  0.005148  0.003029  0.003441  0.005328  \n\n[495 rows x 383 columns]",
      "text/html": "<div>\n<style scoped>\n    .dataframe tbody tr th:only-of-type {\n        vertical-align: middle;\n    }\n\n    .dataframe tbody tr th {\n        vertical-align: top;\n    }\n\n    .dataframe thead th {\n        text-align: right;\n    }\n</style>\n<table border=\"1\" class=\"dataframe\">\n  <thead>\n    <tr style=\"text-align: right;\">\n      <th></th>\n      <th>0</th>\n      <th>1</th>\n      <th>2</th>\n      <th>3</th>\n      <th>4</th>\n      <th>5</th>\n      <th>6</th>\n      <th>7</th>\n      <th>8</th>\n      <th>9</th>\n      <th>...</th>\n      <th>373</th>\n      <th>374</th>\n      <th>375</th>\n      <th>376</th>\n      <th>377</th>\n      <th>378</th>\n      <th>379</th>\n      <th>380</th>\n      <th>381</th>\n      <th>382</th>\n    </tr>\n  </thead>\n  <tbody>\n    <tr>\n      <th>0</th>\n      <td>-1.000000</td>\n      <td>0.036608</td>\n      <td>0.008519</td>\n      <td>0.036228</td>\n      <td>0.039967</td>\n      <td>0.102606</td>\n      <td>0.008738</td>\n      <td>0.158519</td>\n      <td>0.015530</td>\n      <td>0.072579</td>\n      <td>...</td>\n      <td>0.082273</td>\n      <td>0.017766</td>\n      <td>0.106716</td>\n      <td>0.196236</td>\n      <td>0.032594</td>\n      <td>0.020691</td>\n      <td>0.011345</td>\n      <td>0.012433</td>\n      <td>0.009139</td>\n      <td>0.018433</td>\n    </tr>\n    <tr>\n      <th>1</th>\n      <td>-1.000000</td>\n      <td>0.037668</td>\n      <td>0.008297</td>\n      <td>0.067957</td>\n      <td>0.058046</td>\n      <td>-1.000000</td>\n      <td>0.009457</td>\n      <td>0.209028</td>\n      <td>0.026745</td>\n      <td>0.062891</td>\n      <td>...</td>\n      <td>0.142936</td>\n      <td>0.026325</td>\n      <td>0.158378</td>\n      <td>-1.000000</td>\n      <td>-1.000000</td>\n      <td>0.027700</td>\n      <td>0.013079</td>\n      <td>-1.000000</td>\n      <td>0.018185</td>\n      <td>0.026639</td>\n    </tr>\n    <tr>\n      <th>2</th>\n      <td>-1.000000</td>\n      <td>0.021071</td>\n      <td>0.005142</td>\n      <td>0.018108</td>\n      <td>0.029701</td>\n      <td>0.087296</td>\n      <td>0.002947</td>\n      <td>0.162721</td>\n      <td>0.007113</td>\n      <td>0.037637</td>\n      <td>...</td>\n      <td>0.034988</td>\n      <td>0.006684</td>\n      <td>-1.000000</td>\n      <td>0.163183</td>\n      <td>0.023434</td>\n      <td>0.007647</td>\n      <td>0.006577</td>\n      <td>0.007261</td>\n      <td>0.006012</td>\n      <td>0.008917</td>\n    </tr>\n    <tr>\n      <th>3</th>\n      <td>0.019305</td>\n      <td>-1.000000</td>\n      <td>0.003825</td>\n      <td>0.017616</td>\n      <td>0.022324</td>\n      <td>0.067190</td>\n      <td>0.002846</td>\n      <td>0.096980</td>\n      <td>0.007709</td>\n      <td>0.034399</td>\n      <td>...</td>\n      <td>0.037732</td>\n      <td>0.005955</td>\n      <td>0.062766</td>\n      <td>0.149888</td>\n      <td>0.018845</td>\n      <td>0.009539</td>\n      <td>0.004795</td>\n      <td>0.007807</td>\n      <td>0.005125</td>\n      <td>0.006973</td>\n    </tr>\n    <tr>\n      <th>4</th>\n      <td>0.096343</td>\n      <td>-1.000000</td>\n      <td>0.022356</td>\n      <td>0.073862</td>\n      <td>0.087563</td>\n      <td>0.341022</td>\n      <td>0.013064</td>\n      <td>0.277735</td>\n      <td>0.030674</td>\n      <td>0.133109</td>\n      <td>...</td>\n      <td>0.143062</td>\n      <td>0.029095</td>\n      <td>-1.000000</td>\n      <td>0.364304</td>\n      <td>0.063648</td>\n      <td>0.037158</td>\n      <td>0.031438</td>\n      <td>0.034650</td>\n      <td>0.029129</td>\n      <td>0.024807</td>\n    </tr>\n    <tr>\n      <th>...</th>\n      <td>...</td>\n      <td>...</td>\n      <td>...</td>\n      <td>...</td>\n      <td>...</td>\n      <td>...</td>\n      <td>...</td>\n      <td>...</td>\n      <td>...</td>\n      <td>...</td>\n      <td>...</td>\n      <td>...</td>\n      <td>...</td>\n      <td>...</td>\n      <td>...</td>\n      <td>...</td>\n      <td>...</td>\n      <td>...</td>\n      <td>...</td>\n      <td>...</td>\n      <td>...</td>\n    </tr>\n    <tr>\n      <th>490</th>\n      <td>0.007355</td>\n      <td>0.006261</td>\n      <td>0.001629</td>\n      <td>0.009650</td>\n      <td>0.010843</td>\n      <td>0.034885</td>\n      <td>0.000960</td>\n      <td>0.053440</td>\n      <td>0.003204</td>\n      <td>0.014558</td>\n      <td>...</td>\n      <td>0.019987</td>\n      <td>0.004575</td>\n      <td>-1.000000</td>\n      <td>0.072848</td>\n      <td>0.012837</td>\n      <td>0.005284</td>\n      <td>0.001787</td>\n      <td>0.002383</td>\n      <td>0.001997</td>\n      <td>0.002967</td>\n    </tr>\n    <tr>\n      <th>491</th>\n      <td>0.013918</td>\n      <td>0.015391</td>\n      <td>0.002051</td>\n      <td>0.010237</td>\n      <td>0.010736</td>\n      <td>0.040218</td>\n      <td>0.001745</td>\n      <td>0.089101</td>\n      <td>0.004502</td>\n      <td>0.031877</td>\n      <td>...</td>\n      <td>0.024267</td>\n      <td>0.003838</td>\n      <td>0.036550</td>\n      <td>-1.000000</td>\n      <td>0.009095</td>\n      <td>0.005252</td>\n      <td>0.003077</td>\n      <td>0.003438</td>\n      <td>0.003121</td>\n      <td>0.005233</td>\n    </tr>\n    <tr>\n      <th>492</th>\n      <td>0.005216</td>\n      <td>0.005910</td>\n      <td>0.001321</td>\n      <td>0.007559</td>\n      <td>0.008675</td>\n      <td>0.035273</td>\n      <td>0.001315</td>\n      <td>0.090190</td>\n      <td>0.002938</td>\n      <td>0.016709</td>\n      <td>...</td>\n      <td>0.014765</td>\n      <td>0.001854</td>\n      <td>0.041703</td>\n      <td>-1.000000</td>\n      <td>0.007721</td>\n      <td>0.003117</td>\n      <td>0.002359</td>\n      <td>0.002529</td>\n      <td>0.001766</td>\n      <td>0.003070</td>\n    </tr>\n    <tr>\n      <th>493</th>\n      <td>0.008036</td>\n      <td>0.005959</td>\n      <td>0.001771</td>\n      <td>0.010435</td>\n      <td>0.011463</td>\n      <td>0.039100</td>\n      <td>0.001244</td>\n      <td>0.046928</td>\n      <td>0.004172</td>\n      <td>0.019736</td>\n      <td>...</td>\n      <td>0.018209</td>\n      <td>0.004473</td>\n      <td>0.043839</td>\n      <td>-1.000000</td>\n      <td>0.017477</td>\n      <td>0.004830</td>\n      <td>0.001944</td>\n      <td>0.003362</td>\n      <td>0.001536</td>\n      <td>0.002826</td>\n    </tr>\n    <tr>\n      <th>494</th>\n      <td>0.007799</td>\n      <td>0.007931</td>\n      <td>0.002321</td>\n      <td>0.011542</td>\n      <td>0.019334</td>\n      <td>0.064259</td>\n      <td>0.001977</td>\n      <td>0.126748</td>\n      <td>0.003710</td>\n      <td>0.020181</td>\n      <td>...</td>\n      <td>0.022586</td>\n      <td>0.006503</td>\n      <td>0.060403</td>\n      <td>0.117878</td>\n      <td>-1.000000</td>\n      <td>0.005120</td>\n      <td>0.005148</td>\n      <td>0.003029</td>\n      <td>0.003441</td>\n      <td>0.005328</td>\n    </tr>\n  </tbody>\n</table>\n<p>495 rows × 383 columns</p>\n</div>"
     },
     "execution_count": 20,
     "metadata": {},
     "output_type": "execute_result"
    }
   ],
   "source": [
    "association_scores"
   ],
   "metadata": {
    "collapsed": false,
    "ExecuteTime": {
     "end_time": "2025-01-09T12:51:30.959411300Z",
     "start_time": "2025-01-09T12:51:30.915536800Z"
    }
   },
   "id": "b0f36d1288dd25a2"
  },
  {
   "cell_type": "code",
   "execution_count": 21,
   "outputs": [],
   "source": [
    "miRNAname = pd.read_csv('data/HMDD v2.0/HMDD v20_miRNA_name_.csv', header=None)"
   ],
   "metadata": {
    "collapsed": false,
    "ExecuteTime": {
     "end_time": "2025-01-09T12:52:18.052897400Z",
     "start_time": "2025-01-09T12:52:18.023305Z"
    }
   },
   "id": "cd27222308a3c2b2"
  },
  {
   "cell_type": "code",
   "execution_count": 22,
   "outputs": [
    {
     "data": {
      "text/plain": "       0             1\n0      1  hsa-mir-125a\n1      2  hsa-mir-196a\n2      3  hsa-mir-499a\n3      4   hsa-mir-198\n4      5   hsa-mir-29a\n..   ...           ...\n490  491  hsa-mir-550b\n491  492  hsa-mir-1227\n492  493  hsa-mir-1229\n493  494   hsa-mir-944\n494  495  hsa-mir-518a\n\n[495 rows x 2 columns]",
      "text/html": "<div>\n<style scoped>\n    .dataframe tbody tr th:only-of-type {\n        vertical-align: middle;\n    }\n\n    .dataframe tbody tr th {\n        vertical-align: top;\n    }\n\n    .dataframe thead th {\n        text-align: right;\n    }\n</style>\n<table border=\"1\" class=\"dataframe\">\n  <thead>\n    <tr style=\"text-align: right;\">\n      <th></th>\n      <th>0</th>\n      <th>1</th>\n    </tr>\n  </thead>\n  <tbody>\n    <tr>\n      <th>0</th>\n      <td>1</td>\n      <td>hsa-mir-125a</td>\n    </tr>\n    <tr>\n      <th>1</th>\n      <td>2</td>\n      <td>hsa-mir-196a</td>\n    </tr>\n    <tr>\n      <th>2</th>\n      <td>3</td>\n      <td>hsa-mir-499a</td>\n    </tr>\n    <tr>\n      <th>3</th>\n      <td>4</td>\n      <td>hsa-mir-198</td>\n    </tr>\n    <tr>\n      <th>4</th>\n      <td>5</td>\n      <td>hsa-mir-29a</td>\n    </tr>\n    <tr>\n      <th>...</th>\n      <td>...</td>\n      <td>...</td>\n    </tr>\n    <tr>\n      <th>490</th>\n      <td>491</td>\n      <td>hsa-mir-550b</td>\n    </tr>\n    <tr>\n      <th>491</th>\n      <td>492</td>\n      <td>hsa-mir-1227</td>\n    </tr>\n    <tr>\n      <th>492</th>\n      <td>493</td>\n      <td>hsa-mir-1229</td>\n    </tr>\n    <tr>\n      <th>493</th>\n      <td>494</td>\n      <td>hsa-mir-944</td>\n    </tr>\n    <tr>\n      <th>494</th>\n      <td>495</td>\n      <td>hsa-mir-518a</td>\n    </tr>\n  </tbody>\n</table>\n<p>495 rows × 2 columns</p>\n</div>"
     },
     "execution_count": 22,
     "metadata": {},
     "output_type": "execute_result"
    }
   ],
   "source": [
    "miRNAname"
   ],
   "metadata": {
    "collapsed": false,
    "ExecuteTime": {
     "end_time": "2025-01-09T12:52:19.067724300Z",
     "start_time": "2025-01-09T12:52:19.048607400Z"
    }
   },
   "id": "6d123430b6d7b6f4"
  },
  {
   "cell_type": "code",
   "execution_count": 23,
   "outputs": [],
   "source": [
    "diseasename = pd.read_csv('data/HMDD v2.0/HMDD v2.0_disease_name_.csv', header=None)"
   ],
   "metadata": {
    "collapsed": false,
    "ExecuteTime": {
     "end_time": "2025-01-09T12:52:20.446895800Z",
     "start_time": "2025-01-09T12:52:20.423342800Z"
    }
   },
   "id": "f785398da39de484"
  },
  {
   "cell_type": "code",
   "execution_count": 24,
   "outputs": [
    {
     "data": {
      "text/plain": "       0                                     1\n0      1                  'Abortion, Habitual'\n1      2  'Acquired Immunodeficiency Syndrome'\n2      3    'ACTH-Secreting Pituitary Adenoma'\n3      4             'Acute Coronary Syndrome'\n4      5                   'Acute Lung Injury'\n..   ...                                   ...\n378  379              'Vascular Calcification'\n379  380                   'Vascular Diseases'\n380  381                            'Vitiligo'\n381  382       'Waldenstrom Macroglobulinemia'\n382  383                 'Wounds and Injuries'\n\n[383 rows x 2 columns]",
      "text/html": "<div>\n<style scoped>\n    .dataframe tbody tr th:only-of-type {\n        vertical-align: middle;\n    }\n\n    .dataframe tbody tr th {\n        vertical-align: top;\n    }\n\n    .dataframe thead th {\n        text-align: right;\n    }\n</style>\n<table border=\"1\" class=\"dataframe\">\n  <thead>\n    <tr style=\"text-align: right;\">\n      <th></th>\n      <th>0</th>\n      <th>1</th>\n    </tr>\n  </thead>\n  <tbody>\n    <tr>\n      <th>0</th>\n      <td>1</td>\n      <td>'Abortion, Habitual'</td>\n    </tr>\n    <tr>\n      <th>1</th>\n      <td>2</td>\n      <td>'Acquired Immunodeficiency Syndrome'</td>\n    </tr>\n    <tr>\n      <th>2</th>\n      <td>3</td>\n      <td>'ACTH-Secreting Pituitary Adenoma'</td>\n    </tr>\n    <tr>\n      <th>3</th>\n      <td>4</td>\n      <td>'Acute Coronary Syndrome'</td>\n    </tr>\n    <tr>\n      <th>4</th>\n      <td>5</td>\n      <td>'Acute Lung Injury'</td>\n    </tr>\n    <tr>\n      <th>...</th>\n      <td>...</td>\n      <td>...</td>\n    </tr>\n    <tr>\n      <th>378</th>\n      <td>379</td>\n      <td>'Vascular Calcification'</td>\n    </tr>\n    <tr>\n      <th>379</th>\n      <td>380</td>\n      <td>'Vascular Diseases'</td>\n    </tr>\n    <tr>\n      <th>380</th>\n      <td>381</td>\n      <td>'Vitiligo'</td>\n    </tr>\n    <tr>\n      <th>381</th>\n      <td>382</td>\n      <td>'Waldenstrom Macroglobulinemia'</td>\n    </tr>\n    <tr>\n      <th>382</th>\n      <td>383</td>\n      <td>'Wounds and Injuries'</td>\n    </tr>\n  </tbody>\n</table>\n<p>383 rows × 2 columns</p>\n</div>"
     },
     "execution_count": 24,
     "metadata": {},
     "output_type": "execute_result"
    }
   ],
   "source": [
    "diseasename"
   ],
   "metadata": {
    "collapsed": false,
    "ExecuteTime": {
     "end_time": "2025-01-09T12:52:21.005222200Z",
     "start_time": "2025-01-09T12:52:20.977824100Z"
    }
   },
   "id": "bb6a3038e824f1b0"
  },
  {
   "cell_type": "code",
   "execution_count": 25,
   "outputs": [],
   "source": [
    "diseasename[1] = diseasename[1].str.replace(\"'\", \"\", regex=False)"
   ],
   "metadata": {
    "collapsed": false,
    "ExecuteTime": {
     "end_time": "2025-01-09T12:52:23.765522400Z",
     "start_time": "2025-01-09T12:52:23.743551Z"
    }
   },
   "id": "d129584b19a287a4"
  },
  {
   "cell_type": "code",
   "execution_count": 26,
   "outputs": [
    {
     "data": {
      "text/plain": "       0                                   1\n0      1                  Abortion, Habitual\n1      2  Acquired Immunodeficiency Syndrome\n2      3    ACTH-Secreting Pituitary Adenoma\n3      4             Acute Coronary Syndrome\n4      5                   Acute Lung Injury\n..   ...                                 ...\n378  379              Vascular Calcification\n379  380                   Vascular Diseases\n380  381                            Vitiligo\n381  382       Waldenstrom Macroglobulinemia\n382  383                 Wounds and Injuries\n\n[383 rows x 2 columns]",
      "text/html": "<div>\n<style scoped>\n    .dataframe tbody tr th:only-of-type {\n        vertical-align: middle;\n    }\n\n    .dataframe tbody tr th {\n        vertical-align: top;\n    }\n\n    .dataframe thead th {\n        text-align: right;\n    }\n</style>\n<table border=\"1\" class=\"dataframe\">\n  <thead>\n    <tr style=\"text-align: right;\">\n      <th></th>\n      <th>0</th>\n      <th>1</th>\n    </tr>\n  </thead>\n  <tbody>\n    <tr>\n      <th>0</th>\n      <td>1</td>\n      <td>Abortion, Habitual</td>\n    </tr>\n    <tr>\n      <th>1</th>\n      <td>2</td>\n      <td>Acquired Immunodeficiency Syndrome</td>\n    </tr>\n    <tr>\n      <th>2</th>\n      <td>3</td>\n      <td>ACTH-Secreting Pituitary Adenoma</td>\n    </tr>\n    <tr>\n      <th>3</th>\n      <td>4</td>\n      <td>Acute Coronary Syndrome</td>\n    </tr>\n    <tr>\n      <th>4</th>\n      <td>5</td>\n      <td>Acute Lung Injury</td>\n    </tr>\n    <tr>\n      <th>...</th>\n      <td>...</td>\n      <td>...</td>\n    </tr>\n    <tr>\n      <th>378</th>\n      <td>379</td>\n      <td>Vascular Calcification</td>\n    </tr>\n    <tr>\n      <th>379</th>\n      <td>380</td>\n      <td>Vascular Diseases</td>\n    </tr>\n    <tr>\n      <th>380</th>\n      <td>381</td>\n      <td>Vitiligo</td>\n    </tr>\n    <tr>\n      <th>381</th>\n      <td>382</td>\n      <td>Waldenstrom Macroglobulinemia</td>\n    </tr>\n    <tr>\n      <th>382</th>\n      <td>383</td>\n      <td>Wounds and Injuries</td>\n    </tr>\n  </tbody>\n</table>\n<p>383 rows × 2 columns</p>\n</div>"
     },
     "execution_count": 26,
     "metadata": {},
     "output_type": "execute_result"
    }
   ],
   "source": [
    "diseasename"
   ],
   "metadata": {
    "collapsed": false,
    "ExecuteTime": {
     "end_time": "2025-01-09T12:52:25.581706500Z",
     "start_time": "2025-01-09T12:52:25.560285100Z"
    }
   },
   "id": "c48dbd65f5fc60d1"
  },
  {
   "cell_type": "code",
   "execution_count": 27,
   "outputs": [],
   "source": [
    "association_scores.index = miRNAname[1]\n",
    "association_scores.columns = diseasename[1]"
   ],
   "metadata": {
    "collapsed": false,
    "ExecuteTime": {
     "end_time": "2025-01-09T12:52:28.019741Z",
     "start_time": "2025-01-09T12:52:27.997669900Z"
    }
   },
   "id": "141df03473ce3e18"
  },
  {
   "cell_type": "code",
   "execution_count": 28,
   "outputs": [
    {
     "data": {
      "text/plain": "1             Abortion, Habitual  Acquired Immunodeficiency Syndrome  \\\n1                                                                      \nhsa-mir-125a           -1.000000                            0.036608   \nhsa-mir-196a           -1.000000                            0.037668   \nhsa-mir-499a           -1.000000                            0.021071   \nhsa-mir-198             0.019305                           -1.000000   \nhsa-mir-29a             0.096343                           -1.000000   \n...                          ...                                 ...   \nhsa-mir-550b            0.007355                            0.006261   \nhsa-mir-1227            0.013918                            0.015391   \nhsa-mir-1229            0.005216                            0.005910   \nhsa-mir-944             0.008036                            0.005959   \nhsa-mir-518a            0.007799                            0.007931   \n\n1             ACTH-Secreting Pituitary Adenoma  Acute Coronary Syndrome  \\\n1                                                                         \nhsa-mir-125a                          0.008519                 0.036228   \nhsa-mir-196a                          0.008297                 0.067957   \nhsa-mir-499a                          0.005142                 0.018108   \nhsa-mir-198                           0.003825                 0.017616   \nhsa-mir-29a                           0.022356                 0.073862   \n...                                        ...                      ...   \nhsa-mir-550b                          0.001629                 0.009650   \nhsa-mir-1227                          0.002051                 0.010237   \nhsa-mir-1229                          0.001321                 0.007559   \nhsa-mir-944                           0.001771                 0.010435   \nhsa-mir-518a                          0.002321                 0.011542   \n\n1             Acute Lung Injury  Adenocarcinoma   Adenoma  \\\n1                                                           \nhsa-mir-125a           0.039967        0.102606  0.008738   \nhsa-mir-196a           0.058046       -1.000000  0.009457   \nhsa-mir-499a           0.029701        0.087296  0.002947   \nhsa-mir-198            0.022324        0.067190  0.002846   \nhsa-mir-29a            0.087563        0.341022  0.013064   \n...                         ...             ...       ...   \nhsa-mir-550b           0.010843        0.034885  0.000960   \nhsa-mir-1227           0.010736        0.040218  0.001745   \nhsa-mir-1229           0.008675        0.035273  0.001315   \nhsa-mir-944            0.011463        0.039100  0.001244   \nhsa-mir-518a           0.019334        0.064259  0.001977   \n\n1             Adenoviridae Infections  Adrenal Cortex Neoplasms  \\\n1                                                                 \nhsa-mir-125a                 0.158519                  0.015530   \nhsa-mir-196a                 0.209028                  0.026745   \nhsa-mir-499a                 0.162721                  0.007113   \nhsa-mir-198                  0.096980                  0.007709   \nhsa-mir-29a                  0.277735                  0.030674   \n...                               ...                       ...   \nhsa-mir-550b                 0.053440                  0.003204   \nhsa-mir-1227                 0.089101                  0.004502   \nhsa-mir-1229                 0.090190                  0.002938   \nhsa-mir-944                  0.046928                  0.004172   \nhsa-mir-518a                 0.126748                  0.003710   \n\n1             Adrenocortical Adenoma  ...  Toxoplasmosis  Trophoblasts  \\\n1                                     ...                                \nhsa-mir-125a                0.072579  ...       0.082273      0.017766   \nhsa-mir-196a                0.062891  ...       0.142936      0.026325   \nhsa-mir-499a                0.037637  ...       0.034988      0.006684   \nhsa-mir-198                 0.034399  ...       0.037732      0.005955   \nhsa-mir-29a                 0.133109  ...       0.143062      0.029095   \n...                              ...  ...            ...           ...   \nhsa-mir-550b                0.014558  ...       0.019987      0.004575   \nhsa-mir-1227                0.031877  ...       0.024267      0.003838   \nhsa-mir-1229                0.016709  ...       0.014765      0.001854   \nhsa-mir-944                 0.019736  ...       0.018209      0.004473   \nhsa-mir-518a                0.020181  ...       0.022586      0.006503   \n\n1             Tuberculosis, Pulmonary  Urinary Bladder Neoplasms  \\\n1                                                                  \nhsa-mir-125a                 0.106716                   0.196236   \nhsa-mir-196a                 0.158378                  -1.000000   \nhsa-mir-499a                -1.000000                   0.163183   \nhsa-mir-198                  0.062766                   0.149888   \nhsa-mir-29a                 -1.000000                   0.364304   \n...                               ...                        ...   \nhsa-mir-550b                -1.000000                   0.072848   \nhsa-mir-1227                 0.036550                  -1.000000   \nhsa-mir-1229                 0.041703                  -1.000000   \nhsa-mir-944                  0.043839                  -1.000000   \nhsa-mir-518a                 0.060403                   0.117878   \n\n1             Uterine Cervical Neoplasms  Vascular Calcification  \\\n1                                                                  \nhsa-mir-125a                    0.032594                0.020691   \nhsa-mir-196a                   -1.000000                0.027700   \nhsa-mir-499a                    0.023434                0.007647   \nhsa-mir-198                     0.018845                0.009539   \nhsa-mir-29a                     0.063648                0.037158   \n...                                  ...                     ...   \nhsa-mir-550b                    0.012837                0.005284   \nhsa-mir-1227                    0.009095                0.005252   \nhsa-mir-1229                    0.007721                0.003117   \nhsa-mir-944                     0.017477                0.004830   \nhsa-mir-518a                   -1.000000                0.005120   \n\n1             Vascular Diseases  Vitiligo  Waldenstrom Macroglobulinemia  \\\n1                                                                          \nhsa-mir-125a           0.011345  0.012433                       0.009139   \nhsa-mir-196a           0.013079 -1.000000                       0.018185   \nhsa-mir-499a           0.006577  0.007261                       0.006012   \nhsa-mir-198            0.004795  0.007807                       0.005125   \nhsa-mir-29a            0.031438  0.034650                       0.029129   \n...                         ...       ...                            ...   \nhsa-mir-550b           0.001787  0.002383                       0.001997   \nhsa-mir-1227           0.003077  0.003438                       0.003121   \nhsa-mir-1229           0.002359  0.002529                       0.001766   \nhsa-mir-944            0.001944  0.003362                       0.001536   \nhsa-mir-518a           0.005148  0.003029                       0.003441   \n\n1             Wounds and Injuries  \n1                                  \nhsa-mir-125a             0.018433  \nhsa-mir-196a             0.026639  \nhsa-mir-499a             0.008917  \nhsa-mir-198              0.006973  \nhsa-mir-29a              0.024807  \n...                           ...  \nhsa-mir-550b             0.002967  \nhsa-mir-1227             0.005233  \nhsa-mir-1229             0.003070  \nhsa-mir-944              0.002826  \nhsa-mir-518a             0.005328  \n\n[495 rows x 383 columns]",
      "text/html": "<div>\n<style scoped>\n    .dataframe tbody tr th:only-of-type {\n        vertical-align: middle;\n    }\n\n    .dataframe tbody tr th {\n        vertical-align: top;\n    }\n\n    .dataframe thead th {\n        text-align: right;\n    }\n</style>\n<table border=\"1\" class=\"dataframe\">\n  <thead>\n    <tr style=\"text-align: right;\">\n      <th>1</th>\n      <th>Abortion, Habitual</th>\n      <th>Acquired Immunodeficiency Syndrome</th>\n      <th>ACTH-Secreting Pituitary Adenoma</th>\n      <th>Acute Coronary Syndrome</th>\n      <th>Acute Lung Injury</th>\n      <th>Adenocarcinoma</th>\n      <th>Adenoma</th>\n      <th>Adenoviridae Infections</th>\n      <th>Adrenal Cortex Neoplasms</th>\n      <th>Adrenocortical Adenoma</th>\n      <th>...</th>\n      <th>Toxoplasmosis</th>\n      <th>Trophoblasts</th>\n      <th>Tuberculosis, Pulmonary</th>\n      <th>Urinary Bladder Neoplasms</th>\n      <th>Uterine Cervical Neoplasms</th>\n      <th>Vascular Calcification</th>\n      <th>Vascular Diseases</th>\n      <th>Vitiligo</th>\n      <th>Waldenstrom Macroglobulinemia</th>\n      <th>Wounds and Injuries</th>\n    </tr>\n    <tr>\n      <th>1</th>\n      <th></th>\n      <th></th>\n      <th></th>\n      <th></th>\n      <th></th>\n      <th></th>\n      <th></th>\n      <th></th>\n      <th></th>\n      <th></th>\n      <th></th>\n      <th></th>\n      <th></th>\n      <th></th>\n      <th></th>\n      <th></th>\n      <th></th>\n      <th></th>\n      <th></th>\n      <th></th>\n      <th></th>\n    </tr>\n  </thead>\n  <tbody>\n    <tr>\n      <th>hsa-mir-125a</th>\n      <td>-1.000000</td>\n      <td>0.036608</td>\n      <td>0.008519</td>\n      <td>0.036228</td>\n      <td>0.039967</td>\n      <td>0.102606</td>\n      <td>0.008738</td>\n      <td>0.158519</td>\n      <td>0.015530</td>\n      <td>0.072579</td>\n      <td>...</td>\n      <td>0.082273</td>\n      <td>0.017766</td>\n      <td>0.106716</td>\n      <td>0.196236</td>\n      <td>0.032594</td>\n      <td>0.020691</td>\n      <td>0.011345</td>\n      <td>0.012433</td>\n      <td>0.009139</td>\n      <td>0.018433</td>\n    </tr>\n    <tr>\n      <th>hsa-mir-196a</th>\n      <td>-1.000000</td>\n      <td>0.037668</td>\n      <td>0.008297</td>\n      <td>0.067957</td>\n      <td>0.058046</td>\n      <td>-1.000000</td>\n      <td>0.009457</td>\n      <td>0.209028</td>\n      <td>0.026745</td>\n      <td>0.062891</td>\n      <td>...</td>\n      <td>0.142936</td>\n      <td>0.026325</td>\n      <td>0.158378</td>\n      <td>-1.000000</td>\n      <td>-1.000000</td>\n      <td>0.027700</td>\n      <td>0.013079</td>\n      <td>-1.000000</td>\n      <td>0.018185</td>\n      <td>0.026639</td>\n    </tr>\n    <tr>\n      <th>hsa-mir-499a</th>\n      <td>-1.000000</td>\n      <td>0.021071</td>\n      <td>0.005142</td>\n      <td>0.018108</td>\n      <td>0.029701</td>\n      <td>0.087296</td>\n      <td>0.002947</td>\n      <td>0.162721</td>\n      <td>0.007113</td>\n      <td>0.037637</td>\n      <td>...</td>\n      <td>0.034988</td>\n      <td>0.006684</td>\n      <td>-1.000000</td>\n      <td>0.163183</td>\n      <td>0.023434</td>\n      <td>0.007647</td>\n      <td>0.006577</td>\n      <td>0.007261</td>\n      <td>0.006012</td>\n      <td>0.008917</td>\n    </tr>\n    <tr>\n      <th>hsa-mir-198</th>\n      <td>0.019305</td>\n      <td>-1.000000</td>\n      <td>0.003825</td>\n      <td>0.017616</td>\n      <td>0.022324</td>\n      <td>0.067190</td>\n      <td>0.002846</td>\n      <td>0.096980</td>\n      <td>0.007709</td>\n      <td>0.034399</td>\n      <td>...</td>\n      <td>0.037732</td>\n      <td>0.005955</td>\n      <td>0.062766</td>\n      <td>0.149888</td>\n      <td>0.018845</td>\n      <td>0.009539</td>\n      <td>0.004795</td>\n      <td>0.007807</td>\n      <td>0.005125</td>\n      <td>0.006973</td>\n    </tr>\n    <tr>\n      <th>hsa-mir-29a</th>\n      <td>0.096343</td>\n      <td>-1.000000</td>\n      <td>0.022356</td>\n      <td>0.073862</td>\n      <td>0.087563</td>\n      <td>0.341022</td>\n      <td>0.013064</td>\n      <td>0.277735</td>\n      <td>0.030674</td>\n      <td>0.133109</td>\n      <td>...</td>\n      <td>0.143062</td>\n      <td>0.029095</td>\n      <td>-1.000000</td>\n      <td>0.364304</td>\n      <td>0.063648</td>\n      <td>0.037158</td>\n      <td>0.031438</td>\n      <td>0.034650</td>\n      <td>0.029129</td>\n      <td>0.024807</td>\n    </tr>\n    <tr>\n      <th>...</th>\n      <td>...</td>\n      <td>...</td>\n      <td>...</td>\n      <td>...</td>\n      <td>...</td>\n      <td>...</td>\n      <td>...</td>\n      <td>...</td>\n      <td>...</td>\n      <td>...</td>\n      <td>...</td>\n      <td>...</td>\n      <td>...</td>\n      <td>...</td>\n      <td>...</td>\n      <td>...</td>\n      <td>...</td>\n      <td>...</td>\n      <td>...</td>\n      <td>...</td>\n      <td>...</td>\n    </tr>\n    <tr>\n      <th>hsa-mir-550b</th>\n      <td>0.007355</td>\n      <td>0.006261</td>\n      <td>0.001629</td>\n      <td>0.009650</td>\n      <td>0.010843</td>\n      <td>0.034885</td>\n      <td>0.000960</td>\n      <td>0.053440</td>\n      <td>0.003204</td>\n      <td>0.014558</td>\n      <td>...</td>\n      <td>0.019987</td>\n      <td>0.004575</td>\n      <td>-1.000000</td>\n      <td>0.072848</td>\n      <td>0.012837</td>\n      <td>0.005284</td>\n      <td>0.001787</td>\n      <td>0.002383</td>\n      <td>0.001997</td>\n      <td>0.002967</td>\n    </tr>\n    <tr>\n      <th>hsa-mir-1227</th>\n      <td>0.013918</td>\n      <td>0.015391</td>\n      <td>0.002051</td>\n      <td>0.010237</td>\n      <td>0.010736</td>\n      <td>0.040218</td>\n      <td>0.001745</td>\n      <td>0.089101</td>\n      <td>0.004502</td>\n      <td>0.031877</td>\n      <td>...</td>\n      <td>0.024267</td>\n      <td>0.003838</td>\n      <td>0.036550</td>\n      <td>-1.000000</td>\n      <td>0.009095</td>\n      <td>0.005252</td>\n      <td>0.003077</td>\n      <td>0.003438</td>\n      <td>0.003121</td>\n      <td>0.005233</td>\n    </tr>\n    <tr>\n      <th>hsa-mir-1229</th>\n      <td>0.005216</td>\n      <td>0.005910</td>\n      <td>0.001321</td>\n      <td>0.007559</td>\n      <td>0.008675</td>\n      <td>0.035273</td>\n      <td>0.001315</td>\n      <td>0.090190</td>\n      <td>0.002938</td>\n      <td>0.016709</td>\n      <td>...</td>\n      <td>0.014765</td>\n      <td>0.001854</td>\n      <td>0.041703</td>\n      <td>-1.000000</td>\n      <td>0.007721</td>\n      <td>0.003117</td>\n      <td>0.002359</td>\n      <td>0.002529</td>\n      <td>0.001766</td>\n      <td>0.003070</td>\n    </tr>\n    <tr>\n      <th>hsa-mir-944</th>\n      <td>0.008036</td>\n      <td>0.005959</td>\n      <td>0.001771</td>\n      <td>0.010435</td>\n      <td>0.011463</td>\n      <td>0.039100</td>\n      <td>0.001244</td>\n      <td>0.046928</td>\n      <td>0.004172</td>\n      <td>0.019736</td>\n      <td>...</td>\n      <td>0.018209</td>\n      <td>0.004473</td>\n      <td>0.043839</td>\n      <td>-1.000000</td>\n      <td>0.017477</td>\n      <td>0.004830</td>\n      <td>0.001944</td>\n      <td>0.003362</td>\n      <td>0.001536</td>\n      <td>0.002826</td>\n    </tr>\n    <tr>\n      <th>hsa-mir-518a</th>\n      <td>0.007799</td>\n      <td>0.007931</td>\n      <td>0.002321</td>\n      <td>0.011542</td>\n      <td>0.019334</td>\n      <td>0.064259</td>\n      <td>0.001977</td>\n      <td>0.126748</td>\n      <td>0.003710</td>\n      <td>0.020181</td>\n      <td>...</td>\n      <td>0.022586</td>\n      <td>0.006503</td>\n      <td>0.060403</td>\n      <td>0.117878</td>\n      <td>-1.000000</td>\n      <td>0.005120</td>\n      <td>0.005148</td>\n      <td>0.003029</td>\n      <td>0.003441</td>\n      <td>0.005328</td>\n    </tr>\n  </tbody>\n</table>\n<p>495 rows × 383 columns</p>\n</div>"
     },
     "execution_count": 28,
     "metadata": {},
     "output_type": "execute_result"
    }
   ],
   "source": [
    "association_scores"
   ],
   "metadata": {
    "collapsed": false,
    "ExecuteTime": {
     "end_time": "2025-01-09T12:52:28.763060900Z",
     "start_time": "2025-01-09T12:52:28.727451800Z"
    }
   },
   "id": "7eea855c78731189"
  },
  {
   "cell_type": "code",
   "execution_count": 40,
   "outputs": [],
   "source": [
    "Lung_Neoplasms = association_scores['Breast Neoplasms']"
   ],
   "metadata": {
    "collapsed": false,
    "ExecuteTime": {
     "end_time": "2025-01-09T12:58:42.515734900Z",
     "start_time": "2025-01-09T12:58:42.494095900Z"
    }
   },
   "id": "6f3be69b221f38e7"
  },
  {
   "cell_type": "code",
   "execution_count": 41,
   "outputs": [
    {
     "data": {
      "text/plain": "1\nhsa-mir-125a   -1.000000\nhsa-mir-196a   -1.000000\nhsa-mir-499a   -1.000000\nhsa-mir-198     0.393433\nhsa-mir-29a    -1.000000\n                  ...   \nhsa-mir-550b    0.205781\nhsa-mir-1227    0.289198\nhsa-mir-1229    0.226377\nhsa-mir-944     0.187223\nhsa-mir-518a    0.305072\nName: Breast Neoplasms, Length: 495, dtype: float64"
     },
     "execution_count": 41,
     "metadata": {},
     "output_type": "execute_result"
    }
   ],
   "source": [
    "Lung_Neoplasms"
   ],
   "metadata": {
    "collapsed": false,
    "ExecuteTime": {
     "end_time": "2025-01-09T12:58:43.476843100Z",
     "start_time": "2025-01-09T12:58:43.456286800Z"
    }
   },
   "id": "7a48cfce1b96a16b"
  },
  {
   "cell_type": "code",
   "execution_count": 42,
   "outputs": [],
   "source": [
    "Lung_Neoplasms = pd.DataFrame(Lung_Neoplasms)"
   ],
   "metadata": {
    "collapsed": false,
    "ExecuteTime": {
     "end_time": "2025-01-09T12:58:45.789613700Z",
     "start_time": "2025-01-09T12:58:45.765049600Z"
    }
   },
   "id": "9fbe25e356a81355"
  },
  {
   "cell_type": "code",
   "execution_count": 43,
   "outputs": [
    {
     "data": {
      "text/plain": "              Breast Neoplasms\n1                             \nhsa-mir-125a         -1.000000\nhsa-mir-196a         -1.000000\nhsa-mir-499a         -1.000000\nhsa-mir-198           0.393433\nhsa-mir-29a          -1.000000\n...                        ...\nhsa-mir-550b          0.205781\nhsa-mir-1227          0.289198\nhsa-mir-1229          0.226377\nhsa-mir-944           0.187223\nhsa-mir-518a          0.305072\n\n[495 rows x 1 columns]",
      "text/html": "<div>\n<style scoped>\n    .dataframe tbody tr th:only-of-type {\n        vertical-align: middle;\n    }\n\n    .dataframe tbody tr th {\n        vertical-align: top;\n    }\n\n    .dataframe thead th {\n        text-align: right;\n    }\n</style>\n<table border=\"1\" class=\"dataframe\">\n  <thead>\n    <tr style=\"text-align: right;\">\n      <th></th>\n      <th>Breast Neoplasms</th>\n    </tr>\n    <tr>\n      <th>1</th>\n      <th></th>\n    </tr>\n  </thead>\n  <tbody>\n    <tr>\n      <th>hsa-mir-125a</th>\n      <td>-1.000000</td>\n    </tr>\n    <tr>\n      <th>hsa-mir-196a</th>\n      <td>-1.000000</td>\n    </tr>\n    <tr>\n      <th>hsa-mir-499a</th>\n      <td>-1.000000</td>\n    </tr>\n    <tr>\n      <th>hsa-mir-198</th>\n      <td>0.393433</td>\n    </tr>\n    <tr>\n      <th>hsa-mir-29a</th>\n      <td>-1.000000</td>\n    </tr>\n    <tr>\n      <th>...</th>\n      <td>...</td>\n    </tr>\n    <tr>\n      <th>hsa-mir-550b</th>\n      <td>0.205781</td>\n    </tr>\n    <tr>\n      <th>hsa-mir-1227</th>\n      <td>0.289198</td>\n    </tr>\n    <tr>\n      <th>hsa-mir-1229</th>\n      <td>0.226377</td>\n    </tr>\n    <tr>\n      <th>hsa-mir-944</th>\n      <td>0.187223</td>\n    </tr>\n    <tr>\n      <th>hsa-mir-518a</th>\n      <td>0.305072</td>\n    </tr>\n  </tbody>\n</table>\n<p>495 rows × 1 columns</p>\n</div>"
     },
     "execution_count": 43,
     "metadata": {},
     "output_type": "execute_result"
    }
   ],
   "source": [
    "Lung_Neoplasms"
   ],
   "metadata": {
    "collapsed": false,
    "ExecuteTime": {
     "end_time": "2025-01-09T12:58:48.053177900Z",
     "start_time": "2025-01-09T12:58:48.029908200Z"
    }
   },
   "id": "ea69e8abbeea6adb"
  },
  {
   "cell_type": "code",
   "execution_count": 44,
   "outputs": [],
   "source": [
    "Lung_Neoplasms_sorted = Lung_Neoplasms.sort_values(by='Breast Neoplasms', ascending=False)"
   ],
   "metadata": {
    "collapsed": false,
    "ExecuteTime": {
     "end_time": "2025-01-09T12:58:57.633139400Z",
     "start_time": "2025-01-09T12:58:57.606896Z"
    }
   },
   "id": "1bb6a9d9d97502de"
  },
  {
   "cell_type": "code",
   "execution_count": 45,
   "outputs": [
    {
     "data": {
      "text/plain": "              Breast Neoplasms\n1                             \nhsa-mir-371a          0.665031\nhsa-mir-15b           0.628084\nhsa-mir-106a          0.599362\nhsa-mir-208b          0.596993\nhsa-mir-491           0.585414\n...                        ...\nhsa-mir-135b         -1.000000\nhsa-mir-1323         -1.000000\nhsa-mir-1290         -1.000000\nhsa-mir-1258         -1.000000\nhsa-mir-4257         -1.000000\n\n[495 rows x 1 columns]",
      "text/html": "<div>\n<style scoped>\n    .dataframe tbody tr th:only-of-type {\n        vertical-align: middle;\n    }\n\n    .dataframe tbody tr th {\n        vertical-align: top;\n    }\n\n    .dataframe thead th {\n        text-align: right;\n    }\n</style>\n<table border=\"1\" class=\"dataframe\">\n  <thead>\n    <tr style=\"text-align: right;\">\n      <th></th>\n      <th>Breast Neoplasms</th>\n    </tr>\n    <tr>\n      <th>1</th>\n      <th></th>\n    </tr>\n  </thead>\n  <tbody>\n    <tr>\n      <th>hsa-mir-371a</th>\n      <td>0.665031</td>\n    </tr>\n    <tr>\n      <th>hsa-mir-15b</th>\n      <td>0.628084</td>\n    </tr>\n    <tr>\n      <th>hsa-mir-106a</th>\n      <td>0.599362</td>\n    </tr>\n    <tr>\n      <th>hsa-mir-208b</th>\n      <td>0.596993</td>\n    </tr>\n    <tr>\n      <th>hsa-mir-491</th>\n      <td>0.585414</td>\n    </tr>\n    <tr>\n      <th>...</th>\n      <td>...</td>\n    </tr>\n    <tr>\n      <th>hsa-mir-135b</th>\n      <td>-1.000000</td>\n    </tr>\n    <tr>\n      <th>hsa-mir-1323</th>\n      <td>-1.000000</td>\n    </tr>\n    <tr>\n      <th>hsa-mir-1290</th>\n      <td>-1.000000</td>\n    </tr>\n    <tr>\n      <th>hsa-mir-1258</th>\n      <td>-1.000000</td>\n    </tr>\n    <tr>\n      <th>hsa-mir-4257</th>\n      <td>-1.000000</td>\n    </tr>\n  </tbody>\n</table>\n<p>495 rows × 1 columns</p>\n</div>"
     },
     "execution_count": 45,
     "metadata": {},
     "output_type": "execute_result"
    }
   ],
   "source": [
    "Lung_Neoplasms_sorted"
   ],
   "metadata": {
    "collapsed": false,
    "ExecuteTime": {
     "end_time": "2025-01-09T12:58:58.478994900Z",
     "start_time": "2025-01-09T12:58:58.443862500Z"
    }
   },
   "id": "a6d2ce5ca5f9e7fb"
  },
  {
   "cell_type": "code",
   "execution_count": 46,
   "outputs": [],
   "source": [
    "# top 30\n",
    "Lung_Neoplasms_sorted_30 = Lung_Neoplasms_sorted[:30]"
   ],
   "metadata": {
    "collapsed": false,
    "ExecuteTime": {
     "end_time": "2025-01-09T12:59:00.708594100Z",
     "start_time": "2025-01-09T12:59:00.686779700Z"
    }
   },
   "id": "b3849a93d5da7b48"
  },
  {
   "cell_type": "code",
   "execution_count": 47,
   "outputs": [],
   "source": [
    "Lung_Neoplasms_sorted_30.to_csv('Breast_Neoplasms.csv')"
   ],
   "metadata": {
    "collapsed": false,
    "ExecuteTime": {
     "end_time": "2025-01-09T12:59:07.929357200Z",
     "start_time": "2025-01-09T12:59:07.891804200Z"
    }
   },
   "id": "114fd28d54cb38f3"
  },
  {
   "cell_type": "code",
   "execution_count": null,
   "outputs": [],
   "source": [],
   "metadata": {
    "collapsed": false
   },
   "id": "930ac5bf264aebaf"
  }
 ],
 "metadata": {
  "kernelspec": {
   "display_name": "Python 3",
   "language": "python",
   "name": "python3"
  },
  "language_info": {
   "codemirror_mode": {
    "name": "ipython",
    "version": 2
   },
   "file_extension": ".py",
   "mimetype": "text/x-python",
   "name": "python",
   "nbconvert_exporter": "python",
   "pygments_lexer": "ipython2",
   "version": "2.7.6"
  }
 },
 "nbformat": 4,
 "nbformat_minor": 5
}
